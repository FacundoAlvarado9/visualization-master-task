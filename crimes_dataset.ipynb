{
 "cells": [
  {
   "cell_type": "markdown",
   "id": "556e4194-f592-417d-8d5d-f3d6f88f1588",
   "metadata": {},
   "source": [
    "## Crimes\n",
    "In this notebook, a dataset about the crimes in the City of Buenos Aires (CABA) is prepared for use in the final visualization. It contains instances of non-violent theft, violent robberies, harm, and even road-related crimes.\n",
    "\n",
    "### Source\n",
    "Source is the dataset [Delitos 2022](https://data.buenosaires.gob.ar/dataset/delitos/resource/3fbc3808-14c7-4559-8ba5-f68e919fee40) from the Government of the City of Buenos Aires.\n",
    "\n",
    "### Details\n",
    "For this, Pandas will be used as the main tool. The main normalization will be translating some terms from Spanish to English. Also, deleting some columns that do not have to do with our use case.\n",
    "\n",
    "I normalized a dataset using pandas by modifying the original DataFrame directly. This was achieved by utilizing the *inplace=True* parameter within the pandas functions used for normalization. This approach offers the advantage of memory efficiency as it avoids creating a new DataFrame to store the normalized data. However, a potential disadvantage is that if I need to revert to the original, unnormalized data, I would need to either maintain a separate copy or re-load the original dataset."
   ]
  },
  {
   "cell_type": "code",
   "execution_count": 1,
   "id": "8859cbff-4d4e-4ea4-ae10-f56664ace1b5",
   "metadata": {},
   "outputs": [],
   "source": [
    "import pandas as pd"
   ]
  },
  {
   "cell_type": "code",
   "execution_count": 2,
   "id": "e3e222e8-a364-4503-a764-53e8b81a75b0",
   "metadata": {},
   "outputs": [],
   "source": [
    "crimes_dataset = pd.read_csv('delitos_2022.csv')"
   ]
  },
  {
   "cell_type": "markdown",
   "id": "9ebd97f2-0d07-48b8-82d2-5b438bf40666",
   "metadata": {},
   "source": [
    "As we can see right down below, most terms are in Spanish."
   ]
  },
  {
   "cell_type": "code",
   "execution_count": 3,
   "id": "c95f3bf0-16e2-41b0-a1b4-e8512f935171",
   "metadata": {},
   "outputs": [
    {
     "data": {
      "text/html": [
       "<div>\n",
       "<style scoped>\n",
       "    .dataframe tbody tr th:only-of-type {\n",
       "        vertical-align: middle;\n",
       "    }\n",
       "\n",
       "    .dataframe tbody tr th {\n",
       "        vertical-align: top;\n",
       "    }\n",
       "\n",
       "    .dataframe thead th {\n",
       "        text-align: right;\n",
       "    }\n",
       "</style>\n",
       "<table border=\"1\" class=\"dataframe\">\n",
       "  <thead>\n",
       "    <tr style=\"text-align: right;\">\n",
       "      <th></th>\n",
       "      <th>id-mapa</th>\n",
       "      <th>anio</th>\n",
       "      <th>mes</th>\n",
       "      <th>dia</th>\n",
       "      <th>fecha</th>\n",
       "      <th>franja</th>\n",
       "      <th>tipo</th>\n",
       "      <th>subtipo</th>\n",
       "      <th>uso_arma</th>\n",
       "      <th>uso_moto</th>\n",
       "      <th>barrio</th>\n",
       "      <th>comuna</th>\n",
       "      <th>latitud</th>\n",
       "      <th>longitud</th>\n",
       "      <th>cantidad</th>\n",
       "    </tr>\n",
       "  </thead>\n",
       "  <tbody>\n",
       "    <tr>\n",
       "      <th>0</th>\n",
       "      <td>1</td>\n",
       "      <td>2022</td>\n",
       "      <td>OCTUBRE</td>\n",
       "      <td>VIERNES</td>\n",
       "      <td>2022-10-14</td>\n",
       "      <td>3.0</td>\n",
       "      <td>Robo</td>\n",
       "      <td>Robo total</td>\n",
       "      <td>NO</td>\n",
       "      <td>NO</td>\n",
       "      <td>CHACARITA</td>\n",
       "      <td>15.0</td>\n",
       "      <td>-34.584136</td>\n",
       "      <td>-58.454704</td>\n",
       "      <td>1</td>\n",
       "    </tr>\n",
       "    <tr>\n",
       "      <th>1</th>\n",
       "      <td>2</td>\n",
       "      <td>2022</td>\n",
       "      <td>OCTUBRE</td>\n",
       "      <td>JUEVES</td>\n",
       "      <td>2022-10-27</td>\n",
       "      <td>5.0</td>\n",
       "      <td>Robo</td>\n",
       "      <td>Robo total</td>\n",
       "      <td>NO</td>\n",
       "      <td>NO</td>\n",
       "      <td>BARRACAS</td>\n",
       "      <td>4.0</td>\n",
       "      <td>-34.645043</td>\n",
       "      <td>-58.373194</td>\n",
       "      <td>1</td>\n",
       "    </tr>\n",
       "    <tr>\n",
       "      <th>2</th>\n",
       "      <td>3</td>\n",
       "      <td>2022</td>\n",
       "      <td>NOVIEMBRE</td>\n",
       "      <td>MARTES</td>\n",
       "      <td>2022-11-29</td>\n",
       "      <td>0.0</td>\n",
       "      <td>Robo</td>\n",
       "      <td>Robo total</td>\n",
       "      <td>NO</td>\n",
       "      <td>NO</td>\n",
       "      <td>CHACARITA</td>\n",
       "      <td>15.0</td>\n",
       "      <td>-34.589982</td>\n",
       "      <td>-58.446471</td>\n",
       "      <td>1</td>\n",
       "    </tr>\n",
       "    <tr>\n",
       "      <th>3</th>\n",
       "      <td>4</td>\n",
       "      <td>2022</td>\n",
       "      <td>NOVIEMBRE</td>\n",
       "      <td>LUNES</td>\n",
       "      <td>2022-11-28</td>\n",
       "      <td>0.0</td>\n",
       "      <td>Robo</td>\n",
       "      <td>Robo total</td>\n",
       "      <td>NO</td>\n",
       "      <td>NO</td>\n",
       "      <td>CHACARITA</td>\n",
       "      <td>15.0</td>\n",
       "      <td>-34.588320</td>\n",
       "      <td>-58.441232</td>\n",
       "      <td>1</td>\n",
       "    </tr>\n",
       "    <tr>\n",
       "      <th>4</th>\n",
       "      <td>5</td>\n",
       "      <td>2022</td>\n",
       "      <td>NOVIEMBRE</td>\n",
       "      <td>MIERCOLES</td>\n",
       "      <td>2022-11-30</td>\n",
       "      <td>3.0</td>\n",
       "      <td>Robo</td>\n",
       "      <td>Robo total</td>\n",
       "      <td>NO</td>\n",
       "      <td>NO</td>\n",
       "      <td>RECOLETA</td>\n",
       "      <td>2.0</td>\n",
       "      <td>-34.596748</td>\n",
       "      <td>-58.413609</td>\n",
       "      <td>1</td>\n",
       "    </tr>\n",
       "  </tbody>\n",
       "</table>\n",
       "</div>"
      ],
      "text/plain": [
       "   id-mapa  anio        mes        dia       fecha  franja  tipo     subtipo  \\\n",
       "0        1  2022    OCTUBRE    VIERNES  2022-10-14     3.0  Robo  Robo total   \n",
       "1        2  2022    OCTUBRE     JUEVES  2022-10-27     5.0  Robo  Robo total   \n",
       "2        3  2022  NOVIEMBRE     MARTES  2022-11-29     0.0  Robo  Robo total   \n",
       "3        4  2022  NOVIEMBRE      LUNES  2022-11-28     0.0  Robo  Robo total   \n",
       "4        5  2022  NOVIEMBRE  MIERCOLES  2022-11-30     3.0  Robo  Robo total   \n",
       "\n",
       "  uso_arma uso_moto     barrio  comuna    latitud   longitud  cantidad  \n",
       "0       NO       NO  CHACARITA    15.0 -34.584136 -58.454704         1  \n",
       "1       NO       NO   BARRACAS     4.0 -34.645043 -58.373194         1  \n",
       "2       NO       NO  CHACARITA    15.0 -34.589982 -58.446471         1  \n",
       "3       NO       NO  CHACARITA    15.0 -34.588320 -58.441232         1  \n",
       "4       NO       NO   RECOLETA     2.0 -34.596748 -58.413609         1  "
      ]
     },
     "execution_count": 3,
     "metadata": {},
     "output_type": "execute_result"
    }
   ],
   "source": [
    "crimes_dataset.head()"
   ]
  },
  {
   "cell_type": "markdown",
   "id": "edc0e17a-f7ce-4520-b790-1ab3c13559f6",
   "metadata": {},
   "source": [
    "### Translation of terms\n",
    "#### Column names"
   ]
  },
  {
   "cell_type": "code",
   "execution_count": 4,
   "id": "4d650e84-2103-49cb-b03d-b151584efff9",
   "metadata": {},
   "outputs": [],
   "source": [
    "crimes_dataset.rename(columns={'anio': 'year',\n",
    "                  'dia': 'day',\n",
    "                   'mes': 'month',\n",
    "                  'fecha': 'date',\n",
    "                  'franja': 'at_around',\n",
    "                  'tipo': 'type',\n",
    "                   'subtipo': 'subtype',\n",
    "                   'uso_arma': 'used_gun',\n",
    "                   'uso_moto': 'used_motorbike',\n",
    "                   'latitud': 'lat',\n",
    "                   'barrio': 'neighborhood',\n",
    "                   'longitud': 'long',   \n",
    "                  'id-mapa': 'id-map'}, inplace=True)"
   ]
  },
  {
   "cell_type": "markdown",
   "id": "6a293db4-dfef-45c2-a24d-a1d312fd3b06",
   "metadata": {},
   "source": [
    "#### Months\n",
    "Now, terms for the month in which the crimes are said to have happened. For that, I first took a look to see how many distinct values are there for each mont, in order to\n",
    "1. See if there are no duplicates due to errors (e.g. a typo, having both 'January' and 'Jaunary')\n",
    "2. See how many months are to be translated"
   ]
  },
  {
   "cell_type": "code",
   "execution_count": null,
   "id": "564838e1-730e-4039-9007-8fb59d3d7c0f",
   "metadata": {},
   "outputs": [
    {
     "name": "stdout",
     "output_type": "stream",
     "text": [
      "['OCTUBRE' 'NOVIEMBRE' 'MAYO' 'AGOSTO' 'ENERO' 'SEPTIEMBRE' 'DICIEMBRE'\n",
      " 'MARZO' 'FEBRERO' 'JUNIO' 'ABRIL' 'JULIO']\n"
     ]
    }
   ],
   "source": [
    "print(crimes_dataset['month'].unique())"
   ]
  },
  {
   "cell_type": "code",
   "execution_count": 6,
   "id": "d73de6d6-13fa-496b-917f-228c9bdbb445",
   "metadata": {},
   "outputs": [],
   "source": [
    "crimes_dataset.loc[crimes_dataset[\"month\"] == \"DICIEMBRE\", \"month\"] = \"December\"\n",
    "crimes_dataset.loc[crimes_dataset[\"month\"] == \"NOVIEMBRE\", \"month\"] = \"November\"\n",
    "crimes_dataset.loc[crimes_dataset[\"month\"] == \"OCTUBRE\", \"month\"] = \"October\"\n",
    "crimes_dataset.loc[crimes_dataset[\"month\"] == \"SEPTIEMBRE\", \"month\"] = \"September\"\n",
    "crimes_dataset.loc[crimes_dataset[\"month\"] == \"AGOSTO\", \"month\"] = \"August\"\n",
    "crimes_dataset.loc[crimes_dataset[\"month\"] == \"JULIO\", \"month\"] = \"July\"\n",
    "crimes_dataset.loc[crimes_dataset[\"month\"] == \"JUNIO\", \"month\"] = \"June\"\n",
    "crimes_dataset.loc[crimes_dataset[\"month\"] == \"MAYO\", \"month\"] = \"May\"\n",
    "crimes_dataset.loc[crimes_dataset[\"month\"] == \"ABRIL\", \"month\"] = \"April\"\n",
    "crimes_dataset.loc[crimes_dataset[\"month\"] == \"MARZO\", \"month\"] = \"March\"\n",
    "crimes_dataset.loc[crimes_dataset[\"month\"] == \"FEBRERO\", \"month\"] = \"February\"\n",
    "crimes_dataset.loc[crimes_dataset[\"month\"] == \"ENERO\", \"month\"] = \"January\""
   ]
  },
  {
   "cell_type": "code",
   "execution_count": null,
   "id": "5150dfec-3b02-427a-9f8d-58166ba88fab",
   "metadata": {},
   "outputs": [
    {
     "name": "stdout",
     "output_type": "stream",
     "text": [
      "['October' 'November' 'May' 'August' 'January' 'September' 'December'\n",
      " 'March' 'February' 'June' 'April' 'July']\n"
     ]
    }
   ],
   "source": [
    "print(crimes_dataset['month'].unique())"
   ]
  },
  {
   "cell_type": "markdown",
   "id": "6b6b99ec-ed60-4513-abcd-2daf474e75ea",
   "metadata": {},
   "source": [
    "#### Days of the week\n",
    "Exact same process for the names of the week"
   ]
  },
  {
   "cell_type": "code",
   "execution_count": null,
   "id": "acea0daf-fd56-419f-9edd-bfa698e92db8",
   "metadata": {},
   "outputs": [
    {
     "name": "stdout",
     "output_type": "stream",
     "text": [
      "['VIERNES' 'JUEVES' 'MARTES' 'LUNES' 'MIERCOLES' 'DOMINGO' 'SABADO']\n"
     ]
    }
   ],
   "source": [
    "print(crimes_dataset['day'].unique())"
   ]
  },
  {
   "cell_type": "code",
   "execution_count": 9,
   "id": "2c5e4ed3-be71-477a-90eb-69ccb9e36085",
   "metadata": {},
   "outputs": [],
   "source": [
    "crimes_dataset.loc[crimes_dataset[\"day\"] == \"SABADO\", \"day\"] = \"Saturday\"\n",
    "crimes_dataset.loc[crimes_dataset[\"day\"] == \"VIERNES\", \"day\"] = \"Friday\"\n",
    "crimes_dataset.loc[crimes_dataset[\"day\"] == \"JUEVES\", \"day\"] = \"Thursday\"\n",
    "crimes_dataset.loc[crimes_dataset[\"day\"] == \"MIERCOLES\", \"day\"] = \"Wednesday\"\n",
    "crimes_dataset.loc[crimes_dataset[\"day\"] == \"MARTES\", \"day\"] = \"Tuesday\"\n",
    "crimes_dataset.loc[crimes_dataset[\"day\"] == \"LUNES\", \"day\"] = \"Monday\"\n",
    "crimes_dataset.loc[crimes_dataset[\"day\"] == \"DOMINGO\", \"day\"] = \"Sunday\""
   ]
  },
  {
   "cell_type": "code",
   "execution_count": 10,
   "id": "a902b127-b53f-445c-9f01-9fc2dc199fe4",
   "metadata": {},
   "outputs": [
    {
     "name": "stdout",
     "output_type": "stream",
     "text": [
      "['Friday' 'Thursday' 'Tuesday' 'Monday' 'Wednesday' 'Sunday' 'Saturday']\n"
     ]
    }
   ],
   "source": [
    "print(crimes_dataset['day'].unique())"
   ]
  },
  {
   "cell_type": "markdown",
   "id": "7fc4a153-42ce-4123-bf26-14ee0b86c401",
   "metadata": {},
   "source": [
    "#### Crime types\n",
    "This is not such a linear translation. Being Spanish my mother tongue, I tried to be as specific as possible when translating"
   ]
  },
  {
   "cell_type": "code",
   "execution_count": 11,
   "id": "460f36e2-4ffb-46da-96d3-021ed4105313",
   "metadata": {},
   "outputs": [
    {
     "name": "stdout",
     "output_type": "stream",
     "text": [
      "['Robo' 'Hurto' 'Vialidad' 'Homicidios' 'Lesiones' 'Amenazas']\n"
     ]
    }
   ],
   "source": [
    "print(crimes_dataset['type'].unique())"
   ]
  },
  {
   "cell_type": "code",
   "execution_count": 12,
   "id": "5ec85105-d5fd-4ffd-a659-5c370bc564a2",
   "metadata": {},
   "outputs": [],
   "source": [
    "crimes_dataset.loc[crimes_dataset[\"type\"] == \"Robo\", \"type\"] = \"Violent robbery\"\n",
    "crimes_dataset.loc[crimes_dataset[\"type\"] == \"Hurto\", \"type\"] = \"Non-violent theft\"\n",
    "crimes_dataset.loc[crimes_dataset[\"type\"] == \"Vialidad\", \"type\"] = \"Road-related\"\n",
    "crimes_dataset.loc[crimes_dataset[\"type\"] == \"Homicidios\", \"type\"] = \"Homicide\"\n",
    "crimes_dataset.loc[crimes_dataset[\"type\"] == \"Lesiones\", \"type\"] = \"Physical harm\"\n",
    "crimes_dataset.loc[crimes_dataset[\"type\"] == \"Amenazas\", \"type\"] = \"Threats\""
   ]
  },
  {
   "cell_type": "code",
   "execution_count": 13,
   "id": "01d61fcb-613f-4874-ac8c-40d7afc2145c",
   "metadata": {},
   "outputs": [
    {
     "name": "stdout",
     "output_type": "stream",
     "text": [
      "['Violent robbery' 'Non-violent theft' 'Road-related' 'Homicide'\n",
      " 'Physical harm' 'Threats']\n"
     ]
    }
   ],
   "source": [
    "print(crimes_dataset['type'].unique())"
   ]
  },
  {
   "cell_type": "markdown",
   "id": "d7bdc067-62c1-4c20-9333-9a674abcaba5",
   "metadata": {},
   "source": [
    "#### Crime sub-types\n",
    "Same exact process"
   ]
  },
  {
   "cell_type": "code",
   "execution_count": 14,
   "id": "cf846e9f-bba7-4632-a082-9c81492d605d",
   "metadata": {},
   "outputs": [
    {
     "name": "stdout",
     "output_type": "stream",
     "text": [
      "['Robo total' 'Hurto total' 'Robo automotor' 'Hurto automotor'\n",
      " 'Lesiones por siniestros viales' 'Homicidios dolosos' 'Femicidios'\n",
      " 'Lesiones Dolosas' 'Amenazas' 'Muertes por siniestros viales']\n"
     ]
    }
   ],
   "source": [
    "print(crimes_dataset['subtype'].unique())"
   ]
  },
  {
   "cell_type": "code",
   "execution_count": 15,
   "id": "6aeea4f3-20cd-4c72-bf19-26f01b67f14f",
   "metadata": {},
   "outputs": [],
   "source": [
    "crimes_dataset.loc[crimes_dataset[\"subtype\"] == \"Robo total\", \"subtype\"] = \"Total Robbery\"\n",
    "crimes_dataset.loc[crimes_dataset[\"subtype\"] == \"Hurto total\", \"subtype\"] = \"Total Non-violent theft\"\n",
    "crimes_dataset.loc[crimes_dataset[\"subtype\"] == \"Hurto automotor\", \"subtype\"] = \"Non-violent theft of a vehicle\"\n",
    "crimes_dataset.loc[crimes_dataset[\"subtype\"] == \"Robo automotor\", \"subtype\"] = \"Robbery of a vehicle\"\n",
    "crimes_dataset.loc[crimes_dataset[\"subtype\"] == \"Lesiones por siniestros viales\", \"subtype\"] = \"Injuries due to road accident\"\n",
    "crimes_dataset.loc[crimes_dataset[\"subtype\"] == \"Homicidios dolosos\", \"subtype\"] = \"Intentional Homicide\"\n",
    "crimes_dataset.loc[crimes_dataset[\"subtype\"] == \"Lesiones Dolosas\", \"subtype\"] = \"Intentional Harm\"\n",
    "crimes_dataset.loc[crimes_dataset[\"subtype\"] == \"Femicidios\", \"subtype\"] = \"Femicide\"\n",
    "crimes_dataset.loc[crimes_dataset[\"subtype\"] == \"Amenazas\", \"subtype\"] = \"Threats\"\n",
    "crimes_dataset.loc[crimes_dataset[\"subtype\"] == \"Muertes por siniestros viales\", \"subtype\"] = \"Death due to road accident\""
   ]
  },
  {
   "cell_type": "code",
   "execution_count": 16,
   "id": "0fa62e6e-0513-4b43-8b6f-65a81d04c127",
   "metadata": {},
   "outputs": [
    {
     "name": "stdout",
     "output_type": "stream",
     "text": [
      "['Total Robbery' 'Total Non-violent theft' 'Robbery of a vehicle'\n",
      " 'Non-violent theft of a vehicle' 'Injuries due to road accident'\n",
      " 'Intentional Homicide' 'Femicide' 'Intentional Harm' 'Threats'\n",
      " 'Death due to road accident']\n"
     ]
    }
   ],
   "source": [
    "print(crimes_dataset['subtype'].unique())"
   ]
  },
  {
   "cell_type": "markdown",
   "id": "52ada911-7c06-40dc-9be9-d9b10984e81c",
   "metadata": {},
   "source": [
    "### Data-type changes\n",
    "#### Boolean indicating the presence or absence of gun usage in a crime.\n",
    "Changing the string-based value \"No\" and \"Si\" (Yes) for their boolean equivalents."
   ]
  },
  {
   "cell_type": "code",
   "execution_count": 17,
   "id": "78901c02-aa4b-477a-8b34-fd6bb27000ef",
   "metadata": {},
   "outputs": [],
   "source": [
    "crimes_dataset['used_gun'] = crimes_dataset['used_gun'].map({'NO': False, 'SI': True})\n",
    "crimes_dataset['used_motorbike'] = crimes_dataset['used_gun'].map({'NO': False, 'SI': True})"
   ]
  },
  {
   "cell_type": "markdown",
   "id": "f22e363f-fa41-4028-acdf-963cdd9e8df7",
   "metadata": {},
   "source": [
    "#### Deleting the meaningless attribute \"Cantidad\"\n",
    "or \"Quantity\" or \"Count\" in Spanish, since each row describes a single instance of a crime. Let's verify first that this attribute is always 1 (one) for every row."
   ]
  },
  {
   "cell_type": "code",
   "execution_count": 18,
   "id": "4ce25727-f467-4660-9078-c7bcaf701848",
   "metadata": {},
   "outputs": [
    {
     "name": "stdout",
     "output_type": "stream",
     "text": [
      "[1]\n"
     ]
    }
   ],
   "source": [
    "print(crimes_dataset['cantidad'].unique())"
   ]
  },
  {
   "cell_type": "code",
   "execution_count": 19,
   "id": "ed65cdf4-039c-4b71-93b6-c5a92c3665c8",
   "metadata": {},
   "outputs": [],
   "source": [
    "crimes_dataset.drop(columns=['cantidad'], inplace=True)"
   ]
  },
  {
   "cell_type": "markdown",
   "id": "80301c44-2a7a-402d-bf38-939965159192",
   "metadata": {},
   "source": [
    "### Last look and export\n",
    "Before exporting, let's take a look at the DataFrame in its final form"
   ]
  },
  {
   "cell_type": "code",
   "execution_count": null,
   "id": "41ae6397-53bb-4639-a831-d5eb182f136d",
   "metadata": {},
   "outputs": [
    {
     "data": {
      "text/html": [
       "<div>\n",
       "<style scoped>\n",
       "    .dataframe tbody tr th:only-of-type {\n",
       "        vertical-align: middle;\n",
       "    }\n",
       "\n",
       "    .dataframe tbody tr th {\n",
       "        vertical-align: top;\n",
       "    }\n",
       "\n",
       "    .dataframe thead th {\n",
       "        text-align: right;\n",
       "    }\n",
       "</style>\n",
       "<table border=\"1\" class=\"dataframe\">\n",
       "  <thead>\n",
       "    <tr style=\"text-align: right;\">\n",
       "      <th></th>\n",
       "      <th>id-map</th>\n",
       "      <th>year</th>\n",
       "      <th>month</th>\n",
       "      <th>day</th>\n",
       "      <th>date</th>\n",
       "      <th>at_around</th>\n",
       "      <th>type</th>\n",
       "      <th>subtype</th>\n",
       "      <th>used_gun</th>\n",
       "      <th>used_motorbike</th>\n",
       "      <th>neighborhood</th>\n",
       "      <th>comuna</th>\n",
       "      <th>lat</th>\n",
       "      <th>long</th>\n",
       "    </tr>\n",
       "  </thead>\n",
       "  <tbody>\n",
       "    <tr>\n",
       "      <th>0</th>\n",
       "      <td>1</td>\n",
       "      <td>2022</td>\n",
       "      <td>October</td>\n",
       "      <td>Friday</td>\n",
       "      <td>2022-10-14</td>\n",
       "      <td>3.0</td>\n",
       "      <td>Violent robbery</td>\n",
       "      <td>Total Robbery</td>\n",
       "      <td>False</td>\n",
       "      <td>NaN</td>\n",
       "      <td>CHACARITA</td>\n",
       "      <td>15.0</td>\n",
       "      <td>-34.584136</td>\n",
       "      <td>-58.454704</td>\n",
       "    </tr>\n",
       "    <tr>\n",
       "      <th>1</th>\n",
       "      <td>2</td>\n",
       "      <td>2022</td>\n",
       "      <td>October</td>\n",
       "      <td>Thursday</td>\n",
       "      <td>2022-10-27</td>\n",
       "      <td>5.0</td>\n",
       "      <td>Violent robbery</td>\n",
       "      <td>Total Robbery</td>\n",
       "      <td>False</td>\n",
       "      <td>NaN</td>\n",
       "      <td>BARRACAS</td>\n",
       "      <td>4.0</td>\n",
       "      <td>-34.645043</td>\n",
       "      <td>-58.373194</td>\n",
       "    </tr>\n",
       "    <tr>\n",
       "      <th>2</th>\n",
       "      <td>3</td>\n",
       "      <td>2022</td>\n",
       "      <td>November</td>\n",
       "      <td>Tuesday</td>\n",
       "      <td>2022-11-29</td>\n",
       "      <td>0.0</td>\n",
       "      <td>Violent robbery</td>\n",
       "      <td>Total Robbery</td>\n",
       "      <td>False</td>\n",
       "      <td>NaN</td>\n",
       "      <td>CHACARITA</td>\n",
       "      <td>15.0</td>\n",
       "      <td>-34.589982</td>\n",
       "      <td>-58.446471</td>\n",
       "    </tr>\n",
       "    <tr>\n",
       "      <th>3</th>\n",
       "      <td>4</td>\n",
       "      <td>2022</td>\n",
       "      <td>November</td>\n",
       "      <td>Monday</td>\n",
       "      <td>2022-11-28</td>\n",
       "      <td>0.0</td>\n",
       "      <td>Violent robbery</td>\n",
       "      <td>Total Robbery</td>\n",
       "      <td>False</td>\n",
       "      <td>NaN</td>\n",
       "      <td>CHACARITA</td>\n",
       "      <td>15.0</td>\n",
       "      <td>-34.588320</td>\n",
       "      <td>-58.441232</td>\n",
       "    </tr>\n",
       "    <tr>\n",
       "      <th>4</th>\n",
       "      <td>5</td>\n",
       "      <td>2022</td>\n",
       "      <td>November</td>\n",
       "      <td>Wednesday</td>\n",
       "      <td>2022-11-30</td>\n",
       "      <td>3.0</td>\n",
       "      <td>Violent robbery</td>\n",
       "      <td>Total Robbery</td>\n",
       "      <td>False</td>\n",
       "      <td>NaN</td>\n",
       "      <td>RECOLETA</td>\n",
       "      <td>2.0</td>\n",
       "      <td>-34.596748</td>\n",
       "      <td>-58.413609</td>\n",
       "    </tr>\n",
       "  </tbody>\n",
       "</table>\n",
       "</div>"
      ],
      "text/plain": [
       "   id-map  year     month        day        date  at_around             type  \\\n",
       "0       1  2022   October     Friday  2022-10-14        3.0  Violent robbery   \n",
       "1       2  2022   October   Thursday  2022-10-27        5.0  Violent robbery   \n",
       "2       3  2022  November    Tuesday  2022-11-29        0.0  Violent robbery   \n",
       "3       4  2022  November     Monday  2022-11-28        0.0  Violent robbery   \n",
       "4       5  2022  November  Wednesday  2022-11-30        3.0  Violent robbery   \n",
       "\n",
       "         subtype  used_gun used_motorbike neighborhood  comuna        lat  \\\n",
       "0  Total Robbery     False            NaN    CHACARITA    15.0 -34.584136   \n",
       "1  Total Robbery     False            NaN     BARRACAS     4.0 -34.645043   \n",
       "2  Total Robbery     False            NaN    CHACARITA    15.0 -34.589982   \n",
       "3  Total Robbery     False            NaN    CHACARITA    15.0 -34.588320   \n",
       "4  Total Robbery     False            NaN     RECOLETA     2.0 -34.596748   \n",
       "\n",
       "        long  \n",
       "0 -58.454704  \n",
       "1 -58.373194  \n",
       "2 -58.446471  \n",
       "3 -58.441232  \n",
       "4 -58.413609  "
      ]
     },
     "execution_count": 20,
     "metadata": {},
     "output_type": "execute_result"
    }
   ],
   "source": [
    "crimes_dataset.head()"
   ]
  },
  {
   "cell_type": "code",
   "execution_count": 21,
   "id": "4c278a9b-488c-4ad3-8387-11b6d8f2f74a",
   "metadata": {},
   "outputs": [],
   "source": [
    "crimes_dataset.to_csv(\"crimes_2022.csv\", encoding='utf-8', index=False)"
   ]
  }
 ],
 "metadata": {
  "kernelspec": {
   "display_name": "temp",
   "language": "python",
   "name": "python3"
  },
  "language_info": {
   "codemirror_mode": {
    "name": "ipython",
    "version": 3
   },
   "file_extension": ".py",
   "mimetype": "text/x-python",
   "name": "python",
   "nbconvert_exporter": "python",
   "pygments_lexer": "ipython3",
   "version": "3.11.2"
  }
 },
 "nbformat": 4,
 "nbformat_minor": 5
}
