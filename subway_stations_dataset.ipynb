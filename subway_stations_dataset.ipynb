{
 "cells": [
  {
   "cell_type": "markdown",
   "id": "29d6a28a-9ead-43a5-bfbf-40469f347f38",
   "metadata": {},
   "source": [
    "## Subway stations Dataset\n",
    "In this notebook, a dataset about subway stations in the City of Buenos Aires (CABA) is prepared for use in the final visualization. It contains info about the geo-localization, name, commune, and other attributes for each train station.\n",
    "\n",
    "### Source\n",
    "Source is the dataset [Bocas de subte](https://data.buenosaires.gob.ar/dataset/bocas-subte/resource/c9b9628b-6ca5-4867-bf9d-ad11997f951f) from the Government of the City of Buenos Aires.\n",
    "\n",
    "### Details\n",
    "For this, Pandas will be used as the main tool. The main normalization will be translating some terms from Spanish to English. Also, deleting some columns that do not have to do with our use case.\n",
    "\n",
    "I normalized a dataset using pandas by modifying the original DataFrame directly. This was achieved by utilizing the *inplace=True* parameter within the pandas functions used for normalization. This approach offers the advantage of memory efficiency as it avoids creating a new DataFrame to store the normalized data. However, a potential disadvantage is that if I need to revert to the original, unnormalized data, I would need to either maintain a separate copy or re-load the original dataset."
   ]
  },
  {
   "cell_type": "code",
   "execution_count": 1,
   "id": "e2ffc782-b7e0-4b9f-b2df-aa45c60dec42",
   "metadata": {},
   "outputs": [],
   "source": [
    "import pandas as pd"
   ]
  },
  {
   "cell_type": "code",
   "execution_count": 2,
   "id": "c8c75e52-5abb-46ce-97fd-914b5a346c4b",
   "metadata": {},
   "outputs": [],
   "source": [
    "subway_st_df = pd.read_csv('source_datasets/bocas-de-subte.csv')"
   ]
  },
  {
   "cell_type": "markdown",
   "id": "653352ce-f419-4876-b5b6-d6ebb585ba61",
   "metadata": {},
   "source": [
    "Let's take a first look at the attributes\n",
    "\n",
    "Lots of attributes are irrelevant to our use case. Commune-related data is relevant."
   ]
  },
  {
   "cell_type": "code",
   "execution_count": 3,
   "id": "e2eec639-a6d9-4990-aeca-a34f53589814",
   "metadata": {},
   "outputs": [
    {
     "data": {
      "text/html": [
       "<div>\n",
       "<style scoped>\n",
       "    .dataframe tbody tr th:only-of-type {\n",
       "        vertical-align: middle;\n",
       "    }\n",
       "\n",
       "    .dataframe tbody tr th {\n",
       "        vertical-align: top;\n",
       "    }\n",
       "\n",
       "    .dataframe thead th {\n",
       "        text-align: right;\n",
       "    }\n",
       "</style>\n",
       "<table border=\"1\" class=\"dataframe\">\n",
       "  <thead>\n",
       "    <tr style=\"text-align: right;\">\n",
       "      <th></th>\n",
       "      <th>long</th>\n",
       "      <th>lat</th>\n",
       "      <th>id</th>\n",
       "      <th>linea</th>\n",
       "      <th>estacion</th>\n",
       "      <th>numero_de_</th>\n",
       "      <th>destino_bo</th>\n",
       "      <th>lineas_de_</th>\n",
       "      <th>cierra_fin</th>\n",
       "      <th>escalera_p</th>\n",
       "      <th>...</th>\n",
       "      <th>salvaescal</th>\n",
       "      <th>calle</th>\n",
       "      <th>altura</th>\n",
       "      <th>calle2</th>\n",
       "      <th>barrio</th>\n",
       "      <th>comuna</th>\n",
       "      <th>observacio</th>\n",
       "      <th>Objeto</th>\n",
       "      <th>dom_norma</th>\n",
       "      <th>dom_orig</th>\n",
       "    </tr>\n",
       "  </thead>\n",
       "  <tbody>\n",
       "    <tr>\n",
       "      <th>0</th>\n",
       "      <td>-58.384068</td>\n",
       "      <td>-34.602106</td>\n",
       "      <td>1</td>\n",
       "      <td>D</td>\n",
       "      <td>TRIBUNALES - TEATRO COLÓN</td>\n",
       "      <td>4</td>\n",
       "      <td>a Catedral y Congreso de Tucumán</td>\n",
       "      <td>NaN</td>\n",
       "      <td>True</td>\n",
       "      <td>True</td>\n",
       "      <td>...</td>\n",
       "      <td>False</td>\n",
       "      <td>Libertad</td>\n",
       "      <td>556</td>\n",
       "      <td>NaN</td>\n",
       "      <td>San Nicolas</td>\n",
       "      <td>Comuna 1</td>\n",
       "      <td>Andén central</td>\n",
       "      <td>Boca de subte</td>\n",
       "      <td>LIBERTAD 556</td>\n",
       "      <td>Libertad 556</td>\n",
       "    </tr>\n",
       "    <tr>\n",
       "      <th>1</th>\n",
       "      <td>-58.384372</td>\n",
       "      <td>-34.602394</td>\n",
       "      <td>2</td>\n",
       "      <td>D</td>\n",
       "      <td>TRIBUNALES - TEATRO COLÓN</td>\n",
       "      <td>5</td>\n",
       "      <td>a Catedral y Congreso de Tucumán</td>\n",
       "      <td>NaN</td>\n",
       "      <td>True</td>\n",
       "      <td>True</td>\n",
       "      <td>...</td>\n",
       "      <td>False</td>\n",
       "      <td>Lavalle</td>\n",
       "      <td>1221</td>\n",
       "      <td>NaN</td>\n",
       "      <td>San Nicolas</td>\n",
       "      <td>Comuna 1</td>\n",
       "      <td>Andén central</td>\n",
       "      <td>Boca de subte</td>\n",
       "      <td>LAVALLE 1221</td>\n",
       "      <td>Lavalle 1221</td>\n",
       "    </tr>\n",
       "    <tr>\n",
       "      <th>2</th>\n",
       "      <td>-58.397250</td>\n",
       "      <td>-34.587804</td>\n",
       "      <td>3</td>\n",
       "      <td>H</td>\n",
       "      <td>LAS HERAS</td>\n",
       "      <td>1</td>\n",
       "      <td>a Hospitales</td>\n",
       "      <td>NaN</td>\n",
       "      <td>False</td>\n",
       "      <td>True</td>\n",
       "      <td>...</td>\n",
       "      <td>False</td>\n",
       "      <td>Pueyrredon</td>\n",
       "      <td>2199</td>\n",
       "      <td>NaN</td>\n",
       "      <td>NaN</td>\n",
       "      <td>NaN</td>\n",
       "      <td>Vestíbulo intermedio</td>\n",
       "      <td>Boca de subte</td>\n",
       "      <td>NaN</td>\n",
       "      <td>Pueyrredon 2199</td>\n",
       "    </tr>\n",
       "    <tr>\n",
       "      <th>3</th>\n",
       "      <td>-58.403967</td>\n",
       "      <td>-34.598733</td>\n",
       "      <td>4</td>\n",
       "      <td>H</td>\n",
       "      <td>CÓRDOBA</td>\n",
       "      <td>1</td>\n",
       "      <td>a Las Heras y Hopitales</td>\n",
       "      <td>NaN</td>\n",
       "      <td>False</td>\n",
       "      <td>True</td>\n",
       "      <td>...</td>\n",
       "      <td>False</td>\n",
       "      <td>Pueyrredon</td>\n",
       "      <td>984</td>\n",
       "      <td>NaN</td>\n",
       "      <td>NaN</td>\n",
       "      <td>NaN</td>\n",
       "      <td>Vestíbulo intermedio</td>\n",
       "      <td>Boca de subte</td>\n",
       "      <td>NaN</td>\n",
       "      <td>Pueyrredon 984</td>\n",
       "    </tr>\n",
       "    <tr>\n",
       "      <th>4</th>\n",
       "      <td>-58.405406</td>\n",
       "      <td>-34.603884</td>\n",
       "      <td>5</td>\n",
       "      <td>H</td>\n",
       "      <td>CORRIENTES</td>\n",
       "      <td>6</td>\n",
       "      <td>a Las Heras y Hospitales</td>\n",
       "      <td>B</td>\n",
       "      <td>False</td>\n",
       "      <td>False</td>\n",
       "      <td>...</td>\n",
       "      <td>False</td>\n",
       "      <td>Pueyrredón</td>\n",
       "      <td>558</td>\n",
       "      <td>NaN</td>\n",
       "      <td>NaN</td>\n",
       "      <td>NaN</td>\n",
       "      <td>Vestíbulo intermedio</td>\n",
       "      <td>Boca de subte</td>\n",
       "      <td>NaN</td>\n",
       "      <td>Pueyrredón 558</td>\n",
       "    </tr>\n",
       "  </tbody>\n",
       "</table>\n",
       "<p>5 rows × 23 columns</p>\n",
       "</div>"
      ],
      "text/plain": [
       "        long        lat  id linea                   estacion  numero_de_  \\\n",
       "0 -58.384068 -34.602106   1     D  TRIBUNALES - TEATRO COLÓN           4   \n",
       "1 -58.384372 -34.602394   2     D  TRIBUNALES - TEATRO COLÓN           5   \n",
       "2 -58.397250 -34.587804   3     H                  LAS HERAS           1   \n",
       "3 -58.403967 -34.598733   4     H                    CÓRDOBA           1   \n",
       "4 -58.405406 -34.603884   5     H                 CORRIENTES           6   \n",
       "\n",
       "                         destino_bo lineas_de_  cierra_fin  escalera_p  ...  \\\n",
       "0  a Catedral y Congreso de Tucumán        NaN        True        True  ...   \n",
       "1  a Catedral y Congreso de Tucumán        NaN        True        True  ...   \n",
       "2                      a Hospitales        NaN       False        True  ...   \n",
       "3           a Las Heras y Hopitales        NaN       False        True  ...   \n",
       "4          a Las Heras y Hospitales          B       False       False  ...   \n",
       "\n",
       "   salvaescal       calle  altura  calle2       barrio    comuna  \\\n",
       "0       False    Libertad     556     NaN  San Nicolas  Comuna 1   \n",
       "1       False     Lavalle    1221     NaN  San Nicolas  Comuna 1   \n",
       "2       False  Pueyrredon    2199     NaN          NaN       NaN   \n",
       "3       False  Pueyrredon     984     NaN          NaN       NaN   \n",
       "4       False  Pueyrredón     558     NaN          NaN       NaN   \n",
       "\n",
       "             observacio         Objeto     dom_norma         dom_orig  \n",
       "0         Andén central  Boca de subte  LIBERTAD 556     Libertad 556  \n",
       "1         Andén central  Boca de subte  LAVALLE 1221     Lavalle 1221  \n",
       "2  Vestíbulo intermedio  Boca de subte           NaN  Pueyrredon 2199  \n",
       "3  Vestíbulo intermedio  Boca de subte           NaN   Pueyrredon 984  \n",
       "4  Vestíbulo intermedio  Boca de subte           NaN   Pueyrredón 558  \n",
       "\n",
       "[5 rows x 23 columns]"
      ]
     },
     "execution_count": 3,
     "metadata": {},
     "output_type": "execute_result"
    }
   ],
   "source": [
    "subway_st_df.head()"
   ]
  },
  {
   "cell_type": "markdown",
   "id": "9202db50-9204-440d-988e-646f5d3573e7",
   "metadata": {},
   "source": [
    "In the official outline for the dataset, we can see that the commune-related information is under the \"comuna\" column. Let's take a first look at it"
   ]
  },
  {
   "cell_type": "code",
   "execution_count": 4,
   "id": "2003c354-d94e-4920-8e9c-49416edcb98a",
   "metadata": {},
   "outputs": [
    {
     "name": "stdout",
     "output_type": "stream",
     "text": [
      "['Comuna 1' nan 'Comuna 3' 'Comuna 5' 'Comuna 6' 'Comuna 7' 'Comuna 15'\n",
      " 'Comuna 12' 'Comuna 2' 'Comuna 14' 'Comuna 13' 'Comuna 4']\n"
     ]
    }
   ],
   "source": [
    "print(subway_st_df['comuna'].unique())"
   ]
  },
  {
   "cell_type": "markdown",
   "id": "5c09d73f-c825-40bc-92ab-2960e9ca5a26",
   "metadata": {},
   "source": [
    "### Translation of attribute names\n",
    "Only attribute relevant to us now is the commune"
   ]
  },
  {
   "cell_type": "code",
   "execution_count": 5,
   "id": "a7e24b56-1623-482f-bb2b-1f58f49a9068",
   "metadata": {},
   "outputs": [],
   "source": [
    "subway_st_df = subway_st_df.rename(columns={'comuna': 'commune'})"
   ]
  },
  {
   "cell_type": "markdown",
   "id": "f5ac476d-319a-4a54-bb7c-45d81a8da601",
   "metadata": {},
   "source": [
    "### Normalization of attributes\n",
    "#### Info about the commune\n",
    "In order to normalize this attribute for final use in our visualization, let's do the same thing we did on the train stations dataset, that is, going from \"Comuna 1\" to the numeric value of '1' as the value for this attribute."
   ]
  },
  {
   "cell_type": "code",
   "execution_count": 6,
   "id": "5c329b20-891a-4b1e-bf98-11b1c3756be5",
   "metadata": {},
   "outputs": [],
   "source": [
    "# Extract the numeric value from strings like \"Comuna X\" and convert to numbers\n",
    "subway_st_df['commune'] = pd.to_numeric(\n",
    "    subway_st_df['commune'].str.extract('(\\d+)', expand=False)\n",
    ")"
   ]
  },
  {
   "cell_type": "code",
   "execution_count": 7,
   "id": "618f5a7f-29fb-4f6f-ab5c-cbaed0248b4d",
   "metadata": {},
   "outputs": [
    {
     "name": "stdout",
     "output_type": "stream",
     "text": [
      "[ 1. nan  3.  5.  6.  7. 15. 12.  2. 14. 13.  4.]\n"
     ]
    }
   ],
   "source": [
    "print(subway_st_df['commune'].unique())"
   ]
  },
  {
   "cell_type": "markdown",
   "id": "6f07d7fd-4a2a-4761-af80-f78fc6d63ddb",
   "metadata": {},
   "source": [
    "#### NaN values\n",
    "Let's also delete the NaN values which indicate subway stations outside the City of Buenos Aires. Same as we did for the train stations dataset"
   ]
  },
  {
   "cell_type": "code",
   "execution_count": 8,
   "id": "1b145d6a-de08-4068-bef6-11fe0183a2b8",
   "metadata": {},
   "outputs": [],
   "source": [
    "subway_st_df = subway_st_df.dropna(subset=['commune'])"
   ]
  },
  {
   "cell_type": "markdown",
   "id": "ed4b8b21-4a07-452b-ae3b-8da8a4f594ea",
   "metadata": {},
   "source": [
    "## Exporting the dataset"
   ]
  },
  {
   "cell_type": "code",
   "execution_count": 9,
   "id": "f3b511e5-5562-4b04-8983-2e6d2379e54c",
   "metadata": {},
   "outputs": [],
   "source": [
    "subway_st_df.to_csv('processed_data/subway_stations.csv', encoding='utf-8', index=False)"
   ]
  }
 ],
 "metadata": {
  "kernelspec": {
   "display_name": "temp",
   "language": "python",
   "name": "python3"
  },
  "language_info": {
   "codemirror_mode": {
    "name": "ipython",
    "version": 3
   },
   "file_extension": ".py",
   "mimetype": "text/x-python",
   "name": "python",
   "nbconvert_exporter": "python",
   "pygments_lexer": "ipython3",
   "version": "3.11.2"
  }
 },
 "nbformat": 4,
 "nbformat_minor": 5
}
