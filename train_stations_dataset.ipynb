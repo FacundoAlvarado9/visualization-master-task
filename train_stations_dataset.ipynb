{
 "cells": [
  {
   "cell_type": "markdown",
   "id": "9b6cb37c-d970-4237-a0ab-73103a62f10d",
   "metadata": {},
   "source": [
    "## Train Stations Dataset\n",
    "In this notebook, a dataset about train stations in the City of Buenos Aires (CABA) is prepared for use in the final visualization. It contains info about the geo-localization, name, commune, and other attributes for each train station.\n",
    "\n",
    "### Source\n",
    "Source is the dataset [Estaciones de Ferrocarril](https://data.buenosaires.gob.ar/dataset/estaciones-ferrocarril/resource/juqdkmgo-1021-resource) from the Government of the City of Buenos Aires.\n",
    "\n",
    "### Details\n",
    "For this, Pandas will be used as the main tool. The main normalization will be translating some terms from Spanish to English. Also, deleting some columns that do not have to do with our use case.\n",
    "\n",
    "I normalized a dataset using pandas by modifying the original DataFrame directly. This was achieved by utilizing the *inplace=True* parameter within the pandas functions used for normalization. This approach offers the advantage of memory efficiency as it avoids creating a new DataFrame to store the normalized data. However, a potential disadvantage is that if I need to revert to the original, unnormalized data, I would need to either maintain a separate copy or re-load the original dataset."
   ]
  },
  {
   "cell_type": "code",
   "execution_count": 3,
   "id": "56a19e26-f5d0-4695-a8e5-ec8614ddfbf3",
   "metadata": {},
   "outputs": [],
   "source": [
    "import pandas as pd"
   ]
  },
  {
   "cell_type": "code",
   "execution_count": 4,
   "id": "c8c75e52-5abb-46ce-97fd-914b5a346c4b",
   "metadata": {},
   "outputs": [],
   "source": [
    "train_stations_df = pd.read_csv('estaciones_ferrocarril.csv')"
   ]
  },
  {
   "cell_type": "markdown",
   "id": "4e96adba-2c46-4841-8001-95f544ef7faf",
   "metadata": {},
   "source": [
    "Let's take a first look at the dataset and its attributes"
   ]
  },
  {
   "cell_type": "code",
   "execution_count": 5,
   "id": "9df2abc1-f4f5-4abc-851b-4f09a993eadd",
   "metadata": {},
   "outputs": [
    {
     "data": {
      "text/html": [
       "<div>\n",
       "<style scoped>\n",
       "    .dataframe tbody tr th:only-of-type {\n",
       "        vertical-align: middle;\n",
       "    }\n",
       "\n",
       "    .dataframe tbody tr th {\n",
       "        vertical-align: top;\n",
       "    }\n",
       "\n",
       "    .dataframe thead th {\n",
       "        text-align: right;\n",
       "    }\n",
       "</style>\n",
       "<table border=\"1\" class=\"dataframe\">\n",
       "  <thead>\n",
       "    <tr style=\"text-align: right;\">\n",
       "      <th></th>\n",
       "      <th>long</th>\n",
       "      <th>lat</th>\n",
       "      <th>id</th>\n",
       "      <th>nombre</th>\n",
       "      <th>linea</th>\n",
       "      <th>linea_2</th>\n",
       "      <th>ramal</th>\n",
       "      <th>barrio</th>\n",
       "      <th>comuna</th>\n",
       "      <th>localidad</th>\n",
       "      <th>partido</th>\n",
       "    </tr>\n",
       "  </thead>\n",
       "  <tbody>\n",
       "    <tr>\n",
       "      <th>0</th>\n",
       "      <td>-58.424982</td>\n",
       "      <td>-34.571748</td>\n",
       "      <td>1</td>\n",
       "      <td>3 de Febrero</td>\n",
       "      <td>Mitre</td>\n",
       "      <td>F.C.G.B.M.</td>\n",
       "      <td>Retiro - Mitre</td>\n",
       "      <td>Palermo</td>\n",
       "      <td>Comuna 14</td>\n",
       "      <td>NaN</td>\n",
       "      <td>NaN</td>\n",
       "    </tr>\n",
       "    <tr>\n",
       "      <th>1</th>\n",
       "      <td>-58.461808</td>\n",
       "      <td>-34.568051</td>\n",
       "      <td>35</td>\n",
       "      <td>Belgrano R</td>\n",
       "      <td>Mitre</td>\n",
       "      <td>F.C.G.B.M.</td>\n",
       "      <td>Retiro - Mitre</td>\n",
       "      <td>Belgrano</td>\n",
       "      <td>Comuna 13</td>\n",
       "      <td>NaN</td>\n",
       "      <td>NaN</td>\n",
       "    </tr>\n",
       "    <tr>\n",
       "      <th>2</th>\n",
       "      <td>-58.475349</td>\n",
       "      <td>-34.565261</td>\n",
       "      <td>90</td>\n",
       "      <td>Coghlan</td>\n",
       "      <td>Mitre</td>\n",
       "      <td>F.C.G.B.M.</td>\n",
       "      <td>Retiro - Mitre</td>\n",
       "      <td>Coghlan</td>\n",
       "      <td>Comuna 12</td>\n",
       "      <td>NaN</td>\n",
       "      <td>NaN</td>\n",
       "    </tr>\n",
       "    <tr>\n",
       "      <th>3</th>\n",
       "      <td>-58.448253</td>\n",
       "      <td>-34.572975</td>\n",
       "      <td>91</td>\n",
       "      <td>Colegiales</td>\n",
       "      <td>Mitre</td>\n",
       "      <td>F.C.G.B.M.</td>\n",
       "      <td>Retiro - Mitre</td>\n",
       "      <td>Colegiales</td>\n",
       "      <td>Comuna 13</td>\n",
       "      <td>NaN</td>\n",
       "      <td>NaN</td>\n",
       "    </tr>\n",
       "    <tr>\n",
       "      <th>4</th>\n",
       "      <td>-58.494130</td>\n",
       "      <td>-34.523089</td>\n",
       "      <td>119</td>\n",
       "      <td>Dr. Cetrángolo</td>\n",
       "      <td>Mitre</td>\n",
       "      <td>F.C.G.B.M.</td>\n",
       "      <td>Retiro - Mitre</td>\n",
       "      <td>NaN</td>\n",
       "      <td>NaN</td>\n",
       "      <td>Florida</td>\n",
       "      <td>Vicente L\\u00f3pez</td>\n",
       "    </tr>\n",
       "  </tbody>\n",
       "</table>\n",
       "</div>"
      ],
      "text/plain": [
       "        long        lat   id          nombre  linea     linea_2  \\\n",
       "0 -58.424982 -34.571748    1    3 de Febrero  Mitre  F.C.G.B.M.   \n",
       "1 -58.461808 -34.568051   35      Belgrano R  Mitre  F.C.G.B.M.   \n",
       "2 -58.475349 -34.565261   90         Coghlan  Mitre  F.C.G.B.M.   \n",
       "3 -58.448253 -34.572975   91      Colegiales  Mitre  F.C.G.B.M.   \n",
       "4 -58.494130 -34.523089  119  Dr. Cetrángolo  Mitre  F.C.G.B.M.   \n",
       "\n",
       "             ramal      barrio     comuna localidad             partido  \n",
       "0   Retiro - Mitre     Palermo  Comuna 14       NaN                 NaN  \n",
       "1   Retiro - Mitre    Belgrano  Comuna 13       NaN                 NaN  \n",
       "2   Retiro - Mitre     Coghlan  Comuna 12       NaN                 NaN  \n",
       "3   Retiro - Mitre  Colegiales  Comuna 13       NaN                 NaN  \n",
       "4   Retiro - Mitre         NaN        NaN   Florida  Vicente L\\u00f3pez  "
      ]
     },
     "execution_count": 5,
     "metadata": {},
     "output_type": "execute_result"
    }
   ],
   "source": [
    "train_stations_df.head()"
   ]
  },
  {
   "cell_type": "markdown",
   "id": "50fd581a-4c1f-4668-bbb4-7e7c72461200",
   "metadata": {},
   "source": [
    "### Translation of attribute names"
   ]
  },
  {
   "cell_type": "code",
   "execution_count": 6,
   "id": "ac936823-0035-4cf6-8d39-fd2226941f20",
   "metadata": {},
   "outputs": [],
   "source": [
    "translations = {\n",
    "    'columns': {\n",
    "        'nombre': 'name',\n",
    "        'linea': 'line',\n",
    "        'linea_2': 'line_short_name',\n",
    "        'ramal': 'branch',\n",
    "        'barrio': 'neighborhood',\n",
    "        'comuna': 'commune',\n",
    "        'localidad': 'city',\n",
    "        'partido': 'department',\n",
    "    }\n",
    "}"
   ]
  },
  {
   "cell_type": "code",
   "execution_count": 7,
   "id": "cc1cb2cf-6c13-4e69-8059-02ebb966b713",
   "metadata": {},
   "outputs": [],
   "source": [
    "train_stations_df = train_stations_df.rename(columns=translations['columns'])"
   ]
  },
  {
   "cell_type": "code",
   "execution_count": 9,
   "id": "337d76a2-9884-40c1-8511-68a3cccb15d6",
   "metadata": {},
   "outputs": [
    {
     "data": {
      "text/html": [
       "<div>\n",
       "<style scoped>\n",
       "    .dataframe tbody tr th:only-of-type {\n",
       "        vertical-align: middle;\n",
       "    }\n",
       "\n",
       "    .dataframe tbody tr th {\n",
       "        vertical-align: top;\n",
       "    }\n",
       "\n",
       "    .dataframe thead th {\n",
       "        text-align: right;\n",
       "    }\n",
       "</style>\n",
       "<table border=\"1\" class=\"dataframe\">\n",
       "  <thead>\n",
       "    <tr style=\"text-align: right;\">\n",
       "      <th></th>\n",
       "      <th>long</th>\n",
       "      <th>lat</th>\n",
       "      <th>id</th>\n",
       "      <th>name</th>\n",
       "      <th>line</th>\n",
       "      <th>line_short_name</th>\n",
       "      <th>branch</th>\n",
       "      <th>neighborhood</th>\n",
       "      <th>commune</th>\n",
       "      <th>city</th>\n",
       "      <th>department</th>\n",
       "    </tr>\n",
       "  </thead>\n",
       "  <tbody>\n",
       "    <tr>\n",
       "      <th>0</th>\n",
       "      <td>-58.424982</td>\n",
       "      <td>-34.571748</td>\n",
       "      <td>1</td>\n",
       "      <td>3 de Febrero</td>\n",
       "      <td>Mitre</td>\n",
       "      <td>F.C.G.B.M.</td>\n",
       "      <td>Retiro - Mitre</td>\n",
       "      <td>Palermo</td>\n",
       "      <td>Comuna 14</td>\n",
       "      <td>NaN</td>\n",
       "      <td>NaN</td>\n",
       "    </tr>\n",
       "    <tr>\n",
       "      <th>1</th>\n",
       "      <td>-58.461808</td>\n",
       "      <td>-34.568051</td>\n",
       "      <td>35</td>\n",
       "      <td>Belgrano R</td>\n",
       "      <td>Mitre</td>\n",
       "      <td>F.C.G.B.M.</td>\n",
       "      <td>Retiro - Mitre</td>\n",
       "      <td>Belgrano</td>\n",
       "      <td>Comuna 13</td>\n",
       "      <td>NaN</td>\n",
       "      <td>NaN</td>\n",
       "    </tr>\n",
       "    <tr>\n",
       "      <th>2</th>\n",
       "      <td>-58.475349</td>\n",
       "      <td>-34.565261</td>\n",
       "      <td>90</td>\n",
       "      <td>Coghlan</td>\n",
       "      <td>Mitre</td>\n",
       "      <td>F.C.G.B.M.</td>\n",
       "      <td>Retiro - Mitre</td>\n",
       "      <td>Coghlan</td>\n",
       "      <td>Comuna 12</td>\n",
       "      <td>NaN</td>\n",
       "      <td>NaN</td>\n",
       "    </tr>\n",
       "    <tr>\n",
       "      <th>3</th>\n",
       "      <td>-58.448253</td>\n",
       "      <td>-34.572975</td>\n",
       "      <td>91</td>\n",
       "      <td>Colegiales</td>\n",
       "      <td>Mitre</td>\n",
       "      <td>F.C.G.B.M.</td>\n",
       "      <td>Retiro - Mitre</td>\n",
       "      <td>Colegiales</td>\n",
       "      <td>Comuna 13</td>\n",
       "      <td>NaN</td>\n",
       "      <td>NaN</td>\n",
       "    </tr>\n",
       "    <tr>\n",
       "      <th>4</th>\n",
       "      <td>-58.494130</td>\n",
       "      <td>-34.523089</td>\n",
       "      <td>119</td>\n",
       "      <td>Dr. Cetrángolo</td>\n",
       "      <td>Mitre</td>\n",
       "      <td>F.C.G.B.M.</td>\n",
       "      <td>Retiro - Mitre</td>\n",
       "      <td>NaN</td>\n",
       "      <td>NaN</td>\n",
       "      <td>Florida</td>\n",
       "      <td>Vicente L\\u00f3pez</td>\n",
       "    </tr>\n",
       "  </tbody>\n",
       "</table>\n",
       "</div>"
      ],
      "text/plain": [
       "        long        lat   id            name   line line_short_name  \\\n",
       "0 -58.424982 -34.571748    1    3 de Febrero  Mitre      F.C.G.B.M.   \n",
       "1 -58.461808 -34.568051   35      Belgrano R  Mitre      F.C.G.B.M.   \n",
       "2 -58.475349 -34.565261   90         Coghlan  Mitre      F.C.G.B.M.   \n",
       "3 -58.448253 -34.572975   91      Colegiales  Mitre      F.C.G.B.M.   \n",
       "4 -58.494130 -34.523089  119  Dr. Cetrángolo  Mitre      F.C.G.B.M.   \n",
       "\n",
       "            branch neighborhood    commune     city          department  \n",
       "0   Retiro - Mitre      Palermo  Comuna 14      NaN                 NaN  \n",
       "1   Retiro - Mitre     Belgrano  Comuna 13      NaN                 NaN  \n",
       "2   Retiro - Mitre      Coghlan  Comuna 12      NaN                 NaN  \n",
       "3   Retiro - Mitre   Colegiales  Comuna 13      NaN                 NaN  \n",
       "4   Retiro - Mitre          NaN        NaN  Florida  Vicente L\\u00f3pez  "
      ]
     },
     "execution_count": 9,
     "metadata": {},
     "output_type": "execute_result"
    }
   ],
   "source": [
    "train_stations_df.head()"
   ]
  },
  {
   "cell_type": "markdown",
   "id": "19457ce3-a604-4afe-8449-222e2128b504",
   "metadata": {},
   "source": [
    "### Normalization of attributes\n",
    "#### Info about the commune"
   ]
  },
  {
   "cell_type": "markdown",
   "id": "42b476a3-d559-4ff3-9baa-cddf8876e78e",
   "metadata": {},
   "source": [
    "Since the main focus of our final visualization is to count how many train stations are in each commune, let's see how does the 'Commune' attribute looks like in the dataset."
   ]
  },
  {
   "cell_type": "code",
   "execution_count": 13,
   "id": "2003c354-d94e-4920-8e9c-49416edcb98a",
   "metadata": {},
   "outputs": [
    {
     "name": "stdout",
     "output_type": "stream",
     "text": [
      "['Comuna 14' 'Comuna 13' 'Comuna 12' 'Comuna 1' 'Comuna 4' 'Comuna 8'\n",
      " 'Comuna 11' 'Comuna 6' 'Comuna 7' 'Comuna 10' 'Comuna 9' 'Comuna 3']\n"
     ]
    }
   ],
   "source": [
    "print(train_stations_df['commune'].unique())"
   ]
  },
  {
   "cell_type": "markdown",
   "id": "21436e18-71ae-4cb7-8e36-d38d90cb4695",
   "metadata": {},
   "source": [
    "Let's pay attention to two things:\n",
    "- 'Nan' values present\n",
    "- The communes are indicated first in Spanish, and then as a String. In order to parse it in the future, I think it would be easier to have it as a numeric value."
   ]
  },
  {
   "cell_type": "markdown",
   "id": "d1a6bbad-0b8e-425e-b0b8-626e4dc17c0a",
   "metadata": {},
   "source": [
    "#### NaN values"
   ]
  },
  {
   "cell_type": "markdown",
   "id": "e04a99e8-3c44-4bce-9114-c36937cdb19f",
   "metadata": {},
   "source": [
    "Even though it was not stated in the dataset's description, rows with a 'NaN' value for the commune indicate that the station is outside the city of Buenos Aires. Consequently, those rows will be deleted since they serve no purpose for our final visualization."
   ]
  },
  {
   "cell_type": "code",
   "execution_count": 12,
   "id": "f010e8f6-bbd4-479a-b83d-7343ea2e168e",
   "metadata": {},
   "outputs": [],
   "source": [
    "train_stations_df = train_stations_df.dropna(subset=[\"commune\"])"
   ]
  },
  {
   "cell_type": "code",
   "execution_count": 14,
   "id": "f48b083d-3493-421a-8e54-c05e0f04777d",
   "metadata": {},
   "outputs": [
    {
     "name": "stdout",
     "output_type": "stream",
     "text": [
      "['Comuna 14' 'Comuna 13' 'Comuna 12' 'Comuna 1' 'Comuna 4' 'Comuna 8'\n",
      " 'Comuna 11' 'Comuna 6' 'Comuna 7' 'Comuna 10' 'Comuna 9' 'Comuna 3']\n"
     ]
    }
   ],
   "source": [
    "print(train_stations_df['commune'].unique())"
   ]
  },
  {
   "cell_type": "markdown",
   "id": "9f02020b-33d2-45c7-a561-37b67268ebab",
   "metadata": {},
   "source": [
    "#### Setting commune info to numeric values"
   ]
  },
  {
   "cell_type": "code",
   "execution_count": 16,
   "id": "5c329b20-891a-4b1e-bf98-11b1c3756be5",
   "metadata": {},
   "outputs": [],
   "source": [
    "# Extract the numeric value from strings like \"Comuna X\" and convert to numbers\n",
    "train_stations_df[\"commune\"] = pd.to_numeric(\n",
    "    train_stations_df[\"commune\"].str.extract('(\\d+)', expand=False)\n",
    ")"
   ]
  },
  {
   "cell_type": "code",
   "execution_count": 20,
   "id": "618f5a7f-29fb-4f6f-ab5c-cbaed0248b4d",
   "metadata": {},
   "outputs": [
    {
     "name": "stdout",
     "output_type": "stream",
     "text": [
      "[14 13 12  1  4  8 11  6  7 10  9  3]\n"
     ]
    }
   ],
   "source": [
    "print(train_stations_df[\"commune\"].unique())"
   ]
  },
  {
   "cell_type": "markdown",
   "id": "74a7a8de-ec63-4953-80af-e976ef778161",
   "metadata": {},
   "source": [
    "## Exporting the dataset"
   ]
  },
  {
   "cell_type": "code",
   "execution_count": 22,
   "id": "f3b511e5-5562-4b04-8983-2e6d2379e54c",
   "metadata": {},
   "outputs": [],
   "source": [
    "train_stations_df.to_csv(\"train_stations.csv\", encoding='utf-8', index=False)"
   ]
  }
 ],
 "metadata": {
  "kernelspec": {
   "display_name": "Python 3 (ipykernel)",
   "language": "python",
   "name": "python3"
  },
  "language_info": {
   "codemirror_mode": {
    "name": "ipython",
    "version": 3
   },
   "file_extension": ".py",
   "mimetype": "text/x-python",
   "name": "python",
   "nbconvert_exporter": "python",
   "pygments_lexer": "ipython3",
   "version": "3.11.2"
  }
 },
 "nbformat": 4,
 "nbformat_minor": 5
}
